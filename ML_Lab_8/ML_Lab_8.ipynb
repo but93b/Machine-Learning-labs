{
  "nbformat": 4,
  "nbformat_minor": 0,
  "metadata": {
    "colab": {
      "provenance": []
    },
    "kernelspec": {
      "name": "python3",
      "display_name": "Python 3"
    },
    "language_info": {
      "name": "python"
    }
  },
  "cells": [
    {
      "cell_type": "code",
      "source": [
        "import numpy as np\n",
        "from sklearn.model_selection import train_test_split\n",
        "from sklearn.naive_bayes import GaussianNB\n",
        "from sklearn.metrics import accuracy_score, classification_report\n",
        "from sklearn.datasets import make_classification"
      ],
      "metadata": {
        "id": "bMe38x4BIcTy"
      },
      "execution_count": null,
      "outputs": []
    },
    {
      "cell_type": "markdown",
      "source": [
        "1.Для пользовательских и/или модельных данных реализовать Гауссовский наивный байесовский классификатор."
      ],
      "metadata": {
        "id": "J5066ugPIa-y"
      }
    },
    {
      "cell_type": "code",
      "execution_count": null,
      "metadata": {
        "colab": {
          "base_uri": "https://localhost:8080/"
        },
        "id": "M2oOW9Xo7fvk",
        "outputId": "d531bca4-1d94-430b-afb3-54bb74ae648a"
      },
      "outputs": [
        {
          "output_type": "stream",
          "name": "stdout",
          "text": [
            "Gaussian Naive Bayes:\n",
            "Accuracy: 0.8133333333333334\n",
            "\n",
            "Classification Report:\n",
            "              precision    recall  f1-score   support\n",
            "\n",
            "           0       0.76      0.89      0.82       145\n",
            "           1       0.88      0.74      0.80       155\n",
            "\n",
            "    accuracy                           0.81       300\n",
            "   macro avg       0.82      0.82      0.81       300\n",
            "weighted avg       0.82      0.81      0.81       300\n",
            "\n"
          ]
        }
      ],
      "source": [
        "# Генерируем модельные данные\n",
        "X, y = make_classification(n_samples=1000, n_features=20, n_classes=2, random_state=42)\n",
        "\n",
        "# Разбиваем данные на тренировочную и тестовую выборки\n",
        "X_train, X_test, y_train, y_test = train_test_split(X, y, test_size=0.3, random_state=42)\n",
        "\n",
        "# Создаем и обучаем гауссовский наивный байесовский классификатор\n",
        "gnb = GaussianNB()\n",
        "gnb.fit(X_train, y_train)\n",
        "\n",
        "# Предсказываем метки классов на тестовой выборке\n",
        "y_pred = gnb.predict(X_test)\n",
        "\n",
        "# Оцениваем результаты\n",
        "accuracy = accuracy_score(y_test, y_pred)\n",
        "classification_rep = classification_report(y_test, y_pred)\n",
        "\n",
        "# Выводим результаты\n",
        "print(\"Gaussian Naive Bayes:\")\n",
        "print(f\"Accuracy: {accuracy}\")\n",
        "print(\"\\nClassification Report:\")\n",
        "print(classification_rep)\n"
      ]
    },
    {
      "cell_type": "markdown",
      "source": [
        "2.Для несбалансированных пользовательских и/или модельных данных реализовать дополненный наивный байесовский классификатор."
      ],
      "metadata": {
        "id": "UdGXTlMfIimU"
      }
    },
    {
      "cell_type": "code",
      "source": [
        "import numpy as np\n",
        "from sklearn.model_selection import train_test_split\n",
        "from sklearn.naive_bayes import ComplementNB\n",
        "from sklearn.metrics import accuracy_score, classification_report\n",
        "from sklearn.datasets import make_classification\n",
        "from sklearn.preprocessing import MinMaxScaler\n",
        "# Генерируем несбалансированные модельные данные\n",
        "X, y = make_classification(\n",
        "    n_samples=1000,\n",
        "    n_features=20,\n",
        "    n_classes=2,\n",
        "    weights=[0.9, 0.1],  # 90% в классе 0, 10% в классе 1\n",
        "    random_state=42\n",
        ")\n",
        "\n",
        "# Разбиваем данные на тренировочную и тестовую выборки\n",
        "X_train, X_test, y_train, y_test = train_test_split(X, y, test_size=0.3, random_state=42)\n",
        "\n",
        "# Создаем и обучаем MinMaxScaler\n",
        "scaler = MinMaxScaler()\n",
        "X_train_scaled = scaler.fit_transform(X_train)\n",
        "\n",
        "# Создаем и обучаем дополненный наивный байесовский классификатор\n",
        "cnb = ComplementNB()\n",
        "cnb.fit(X_train_scaled, y_train)\n",
        "\n",
        "# Преобразуем тестовые данные с помощью того же scaler\n",
        "X_test_scaled = scaler.transform(X_test)\n",
        "\n",
        "# Предсказываем метки классов на тестовой выборке\n",
        "y_pred = cnb.predict(X_test_scaled)\n",
        "\n",
        "# Оцениваем результаты\n",
        "accuracy = accuracy_score(y_test, y_pred)\n",
        "classification_rep = classification_report(y_test, y_pred)\n",
        "\n",
        "# Выводим результаты\n",
        "print(\"Complement Naive Bayes:\")\n",
        "print(f\"Accuracy: {accuracy}\")\n",
        "print(\"\\nClassification Report:\")\n",
        "print(classification_rep)\n"
      ],
      "metadata": {
        "colab": {
          "base_uri": "https://localhost:8080/"
        },
        "id": "HglcjUVr7j1s",
        "outputId": "755247b4-9765-4e06-a870-592fcb98510c"
      },
      "execution_count": null,
      "outputs": [
        {
          "output_type": "stream",
          "name": "stdout",
          "text": [
            "Complement Naive Bayes:\n",
            "Accuracy: 0.8633333333333333\n",
            "\n",
            "Classification Report:\n",
            "              precision    recall  f1-score   support\n",
            "\n",
            "           0       0.96      0.89      0.92       270\n",
            "           1       0.39      0.67      0.49        30\n",
            "\n",
            "    accuracy                           0.86       300\n",
            "   macro avg       0.68      0.78      0.71       300\n",
            "weighted avg       0.90      0.86      0.88       300\n",
            "\n"
          ]
        }
      ]
    },
    {
      "cell_type": "markdown",
      "source": [
        "3.Для пользовательских и/или модельных данных реализовать мультиномиальный наивный байесовский классификатор."
      ],
      "metadata": {
        "id": "KjnBzKoTInGV"
      }
    },
    {
      "cell_type": "code",
      "source": [
        "import numpy as np\n",
        "from sklearn.model_selection import train_test_split\n",
        "from sklearn.naive_bayes import MultinomialNB\n",
        "from sklearn.metrics import accuracy_score, classification_report\n",
        "from sklearn.datasets import make_classification\n",
        "\n",
        "# Генерируем модельные данные\n",
        "X, y = make_classification(n_samples=1000, n_features=20, n_classes=2, random_state=42)\n",
        "\n",
        "# Преобразуем данные, чтобы все значения были неотрицательными и целыми\n",
        "X_non_negative = np.abs(X)  # Берем абсолютное значение, чтобы избежать отрицательных значений\n",
        "X_int = X_non_negative.astype(int)  # Преобразуем в целые значения\n",
        "\n",
        "# Разбиваем данные на тренировочную и тестовую выборки\n",
        "X_train, X_test, y_train, y_test = train_test_split(X_int, y, test_size=0.3, random_state=42)\n",
        "\n",
        "# Создаем и обучаем мультиномиальный наивный байесовский классификатор\n",
        "mnb = MultinomialNB()\n",
        "mnb.fit(X_train, y_train)\n",
        "\n",
        "# Предсказываем метки классов на тестовой выборке\n",
        "y_pred = mnb.predict(X_test)\n",
        "\n",
        "# Оцениваем результаты\n",
        "accuracy = accuracy_score(y_test, y_pred)\n",
        "classification_rep = classification_report(y_test, y_pred)\n",
        "\n",
        "# Выводим результаты\n",
        "print(\"Multinomial Naive Bayes:\")\n",
        "print(f\"Accuracy: {accuracy}\")\n",
        "print(\"\\nClassification Report:\")\n",
        "print(classification_rep)\n"
      ],
      "metadata": {
        "colab": {
          "base_uri": "https://localhost:8080/"
        },
        "id": "ir4r0MbB7y8I",
        "outputId": "633ebb19-2051-4551-db2e-ad9485843053"
      },
      "execution_count": null,
      "outputs": [
        {
          "output_type": "stream",
          "name": "stdout",
          "text": [
            "Multinomial Naive Bayes:\n",
            "Accuracy: 0.51\n",
            "\n",
            "Classification Report:\n",
            "              precision    recall  f1-score   support\n",
            "\n",
            "           0       0.49      0.59      0.54       145\n",
            "           1       0.53      0.43      0.48       155\n",
            "\n",
            "    accuracy                           0.51       300\n",
            "   macro avg       0.51      0.51      0.51       300\n",
            "weighted avg       0.51      0.51      0.51       300\n",
            "\n"
          ]
        }
      ]
    },
    {
      "cell_type": "markdown",
      "source": [
        "4.Для пользовательских и/или модельных данных реализовать наивный байесовский классификатор Бернулли."
      ],
      "metadata": {
        "id": "6V16DPGfIr7p"
      }
    },
    {
      "cell_type": "code",
      "source": [
        "import numpy as np\n",
        "from sklearn.model_selection import train_test_split\n",
        "from sklearn.naive_bayes import BernoulliNB\n",
        "from sklearn.metrics import accuracy_score, classification_report\n",
        "from sklearn.datasets import make_classification\n",
        "\n",
        "# Генерируем модельные данные\n",
        "X, y = make_classification(n_samples=1000, n_features=20, n_classes=2, random_state=42)\n",
        "\n",
        "# Бинаризуем признаки для работы с наивным байесовским классификатором Бернулли\n",
        "X_bin = (X > np.median(X, axis=0)).astype(int)\n",
        "\n",
        "# Разбиваем данные на тренировочную и тестовую выборки\n",
        "X_train, X_test, y_train, y_test = train_test_split(X_bin, y, test_size=0.3, random_state=42)\n",
        "\n",
        "# Создаем и обучаем наивный байесовский классификатор Бернулли\n",
        "bnb = BernoulliNB()\n",
        "bnb.fit(X_train, y_train)\n",
        "\n",
        "# Предсказываем метки классов на тестовой выборке\n",
        "y_pred = bnb.predict(X_test)\n",
        "\n",
        "# Оцениваем результаты\n",
        "accuracy = accuracy_score(y_test, y_pred)\n",
        "classification_rep = classification_report(y_test, y_pred)\n",
        "\n",
        "# Выводим результаты\n",
        "print(\"Bernoulli Naive Bayes:\")\n",
        "print(f\"Accuracy: {accuracy}\")\n",
        "print(\"\\nClassification Report:\")\n",
        "print(classification_rep)\n"
      ],
      "metadata": {
        "colab": {
          "base_uri": "https://localhost:8080/"
        },
        "id": "hQ2rWhnl8Dg4",
        "outputId": "050a5566-f184-4df8-cc65-22f36672bab9"
      },
      "execution_count": null,
      "outputs": [
        {
          "output_type": "stream",
          "name": "stdout",
          "text": [
            "Bernoulli Naive Bayes:\n",
            "Accuracy: 0.7833333333333333\n",
            "\n",
            "Classification Report:\n",
            "              precision    recall  f1-score   support\n",
            "\n",
            "           0       0.76      0.80      0.78       145\n",
            "           1       0.80      0.77      0.79       155\n",
            "\n",
            "    accuracy                           0.78       300\n",
            "   macro avg       0.78      0.78      0.78       300\n",
            "weighted avg       0.78      0.78      0.78       300\n",
            "\n"
          ]
        }
      ]
    }
  ]
}